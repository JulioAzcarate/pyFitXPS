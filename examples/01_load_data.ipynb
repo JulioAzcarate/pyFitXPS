{
 "cells": [
  {
   "attachments": {},
   "cell_type": "markdown",
   "metadata": {},
   "source": [
    "# Load data from XY file exported from SpecsLab Prodigy"
   ]
  },
  {
   "attachments": {},
   "cell_type": "markdown",
   "metadata": {},
   "source": [
    "### Modules needed for load XY files and ploting the data"
   ]
  },
  {
   "cell_type": "code",
   "execution_count": 1,
   "metadata": {
    "vscode": {
     "languageId": "python"
    }
   },
   "outputs": [],
   "source": [
    "# --- matplotlib --------------------------------------------------------------\n",
    "import matplotlib.pyplot as plt\n",
    "\n",
    "# --- Our own modules ---------------------------------------------------------\n",
    "import sys\n",
    "\n",
    "# permatent location of functions from pyFitXPS\n",
    "sys.path.insert(0, '/home/julio/Python/pyFitXPS/functions/') # Julio Laptop\n",
    "#sys.path.insert(0, '/Users/ceciliapatrault/Desktop/Julio/XPS_PYTHON/paquetes_funciones') # Mac\n",
    "import specs_xy as sp"
   ]
  },
  {
   "attachments": {},
   "cell_type": "markdown",
   "metadata": {},
   "source": [
    "search and listing the files in folder located realive to this notebook"
   ]
  },
  {
   "cell_type": "code",
   "execution_count": 2,
   "metadata": {
    "vscode": {
     "languageId": "python"
    }
   },
   "outputs": [
    {
     "name": "stdout",
     "output_type": "stream",
     "text": [
      "data/separated/\n",
      "['data/separated/Au_MeMBA_5min_10_Survey (0).xy', 'data/separated/Au_MeMBA_5min_11_S (0).xy', 'data/separated/Au_MeMBA_5min_12_C (0).xy', 'data/separated/Au_MeMBA_5min_13_Au (0).xy', 'data/separated/Au_MeMBA_5min_14_VB (0).xy', 'data/separated/Au_MeMBA_5min_15_O (0).xy', 'data/separated/Au_MeMBA_5min_16_S (1).xy', 'data/separated/Au_MeMBA_5min_17_C (1).xy', 'data/separated/Au_MeMBA_5min_18_Au (1).xy', 'data/separated/Au_MeMBA_5min_19_VB (1).xy', 'data/separated/Au_MeMBA_5min_20_O (1).xy', 'data/separated/Au_MeMBA_5min_21_S (2).xy', 'data/separated/Au_MeMBA_5min_22_C (2).xy', 'data/separated/Au_MeMBA_5min_23_Au (2).xy', 'data/separated/Au_MeMBA_5min_24_VB (2).xy', 'data/separated/Au_MeMBA_5min_25_O (2).xy', 'data/separated/Au_MeMBA_5min_26_S (3).xy', 'data/separated/Au_MeMBA_5min_27_C (3).xy', 'data/separated/Au_MeMBA_5min_28_Au (3).xy', 'data/separated/Au_MeMBA_5min_29_VB (3).xy', 'data/separated/Au_MeMBA_5min_30_O (3).xy', 'data/separated/Au_MeMBA_5min_31_Spectrum.xy']\n",
      "None\n"
     ]
    }
   ],
   "source": [
    "files_path = \"data/separated/\"\n",
    "\n",
    "# the module specs_xy as ps have the function \"list_files_xy()\"\n",
    "files = sp.list_files_xy(files_path)\n",
    "\n",
    "print(files)"
   ]
  },
  {
   "attachments": {},
   "cell_type": "markdown",
   "metadata": {},
   "source": [
    "the module `specs_xy` have the function `load_one_file_xy()`. The data is loaded as **dictionary**"
   ]
  },
  {
   "cell_type": "code",
   "execution_count": 5,
   "metadata": {
    "vscode": {
     "languageId": "python"
    }
   },
   "outputs": [
    {
     "name": "stdout",
     "output_type": "stream",
     "text": [
      "\u001b[0;31mSignature:\u001b[0m \u001b[0msp\u001b[0m\u001b[0;34m.\u001b[0m\u001b[0mload_one_file_xy\u001b[0m\u001b[0;34m(\u001b[0m\u001b[0mfilename\u001b[0m\u001b[0;34m)\u001b[0m\u001b[0;34m\u001b[0m\u001b[0;34m\u001b[0m\u001b[0m\n",
      "\u001b[0;31mDocstring:\u001b[0m\n",
      "Read one .xy file and store info in a dictionary\n",
      "\n",
      "Parameters\n",
      "----------\n",
      "filename : TYPE\n",
      "    DESCRIPTION.\n",
      "\n",
      "Returns\n",
      "-------\n",
      "dict with two elements: 'details' and 'data_orig':\n",
      "    'details' is a dict wich store the info from adquisition parameters\n",
      "    'data_orig' dict which contain tuples for orinigal data as two elements:\n",
      "        keys:\n",
      "            ['BE'] binding energy\n",
      "            ['KE'] kinetic energy\n",
      "            ['intensity'] intensity (counts or counst per second)\n",
      "\n",
      "for example:\n",
      "    dict['details']['Pass Energy'] give the pass energy of the adquisition\n",
      "    dict['data_orig']['BE'] give the x-axis for binding energy\n",
      "    dict['data_orig']['intensity'] give the y-axis for intensity\n",
      "\u001b[0;31mFile:\u001b[0m      ~/Python/pyFitXPS/functions/specs_xy.py\n",
      "\u001b[0;31mType:\u001b[0m      function\n"
     ]
    }
   ],
   "source": [
    "sp.load_one_file_xy?"
   ]
  },
  {
   "cell_type": "code",
   "execution_count": 3,
   "metadata": {
    "vscode": {
     "languageId": "python"
    }
   },
   "outputs": [],
   "source": [
    "survey = sp.load_one_file_xy('data/separated/Au_MeMBA_5min_10_Survey (0).xy')\n",
    "VB_0 = sp.load_one_file_xy('data/separated/Au_MeMBA_5min_14_VB (0).xy')\n",
    "Au_0 = sp.load_one_file_xy('data/separated/Au_MeMBA_5min_13_Au (0).xy')\n",
    "S_0 = sp.load_one_file_xy('data/separated/Au_MeMBA_5min_11_S (0).xy')"
   ]
  },
  {
   "attachments": {},
   "cell_type": "markdown",
   "metadata": {},
   "source": [
    "then, the sructure of each spectrum is"
   ]
  },
  {
   "cell_type": "code",
   "execution_count": 14,
   "metadata": {
    "vscode": {
     "languageId": "python"
    }
   },
   "outputs": [
    {
     "data": {
      "text/plain": [
       "dict"
      ]
     },
     "execution_count": 14,
     "metadata": {},
     "output_type": "execute_result"
    }
   ],
   "source": [
    "type(survey)"
   ]
  },
  {
   "cell_type": "code",
   "execution_count": 15,
   "metadata": {
    "vscode": {
     "languageId": "python"
    }
   },
   "outputs": [
    {
     "data": {
      "text/plain": [
       "dict_keys(['details', 'data_orig'])"
      ]
     },
     "execution_count": 15,
     "metadata": {},
     "output_type": "execute_result"
    }
   ],
   "source": [
    "survey.keys()"
   ]
  },
  {
   "cell_type": "code",
   "execution_count": 16,
   "metadata": {
    "vscode": {
     "languageId": "python"
    }
   },
   "outputs": [
    {
     "data": {
      "text/plain": [
       "dict_keys(['Region', 'Acquisition Date', 'Analysis Method', 'Analyzer Lens', 'Analyzer Slit', 'Scan Mode', 'Curves/Scan', 'Values/Curve', 'Dwell Time', 'Excitation Energy', 'Binding Energy', 'Pass Energy', 'Bias Voltage', 'Detector Voltage', 'Eff. Workfunction', 'Source', 'Comment', 'Number of Scans'])"
      ]
     },
     "execution_count": 16,
     "metadata": {},
     "output_type": "execute_result"
    }
   ],
   "source": [
    "survey['details'].keys()"
   ]
  },
  {
   "cell_type": "code",
   "execution_count": 17,
   "metadata": {
    "vscode": {
     "languageId": "python"
    }
   },
   "outputs": [
    {
     "data": {
      "text/plain": [
       "dict_keys(['BE', 'KE', 'intensity'])"
      ]
     },
     "execution_count": 17,
     "metadata": {},
     "output_type": "execute_result"
    }
   ],
   "source": [
    "survey['data_orig'].keys()"
   ]
  },
  {
   "cell_type": "code",
   "execution_count": 19,
   "metadata": {
    "vscode": {
     "languageId": "python"
    }
   },
   "outputs": [
    {
     "data": {
      "text/plain": [
       "numpy.ndarray"
      ]
     },
     "execution_count": 19,
     "metadata": {},
     "output_type": "execute_result"
    }
   ],
   "source": [
    "type(survey['data_orig']['BE'])"
   ]
  },
  {
   "cell_type": "code",
   "execution_count": 20,
   "metadata": {
    "vscode": {
     "languageId": "python"
    }
   },
   "outputs": [
    {
     "data": {
      "text/plain": [
       "array([-1.100e+03, -1.099e+03, -1.098e+03, ..., -0.000e+00,  1.000e+00,\n",
       "        2.000e+00])"
      ]
     },
     "execution_count": 20,
     "metadata": {},
     "output_type": "execute_result"
    }
   ],
   "source": [
    "survey['data_orig']['BE']"
   ]
  },
  {
   "cell_type": "code",
   "execution_count": 21,
   "metadata": {
    "vscode": {
     "languageId": "python"
    }
   },
   "outputs": [
    {
     "data": {
      "text/plain": [
       "array([3.4533572e+04, 3.3984171e+04, 3.4245547e+04, ..., 2.6476600e+01,\n",
       "       2.4925190e+01, 2.9589760e+01])"
      ]
     },
     "execution_count": 21,
     "metadata": {},
     "output_type": "execute_result"
    }
   ],
   "source": [
    "survey['data_orig']['intensity']"
   ]
  },
  {
   "attachments": {},
   "cell_type": "markdown",
   "metadata": {},
   "source": [
    "Then, one can plot the data as"
   ]
  },
  {
   "cell_type": "code",
   "execution_count": 24,
   "metadata": {
    "vscode": {
     "languageId": "python"
    }
   },
   "outputs": [
    {
     "data": {
      "text/plain": [
       "Text(0, 0.5, 'Intensity [cps]')"
      ]
     },
     "execution_count": 24,
     "metadata": {},
     "output_type": "execute_result"
    },
    {
     "data": {
      "image/png": "[encoded data removed]",
      "text/plain": [
       "<Figure size 640x480 with 1 Axes>"
      ]
     },
     "metadata": {},
     "output_type": "display_data"
    }
   ],
   "source": [
    "plt.plot(survey['data_orig']['BE'],survey['data_orig']['intensity'])\n",
    "plt.xlabel('BE [eV]')\n",
    "plt.ylabel('Intensity [cps]')"
   ]
  },
  {
   "cell_type": "code",
   "execution_count": null,
   "metadata": {
    "vscode": {
     "languageId": "python"
    }
   },
   "outputs": [],
   "source": []
  }
 ],
 "metadata": {
  "kernelspec": {
   "display_name": "Python 3 (ipykernel)",
   "language": "python",
   "name": "python3"
  },
  "orig_nbformat": 4
 },
 "nbformat": 4,
 "nbformat_minor": 2
}
