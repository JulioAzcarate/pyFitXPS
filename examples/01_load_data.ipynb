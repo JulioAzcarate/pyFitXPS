{
 "cells": [
  {
   "attachments": {},
   "cell_type": "markdown",
   "metadata": {},
   "source": [
    "# Load data from XY file exported from SpecsLab Prodigy"
   ]
  },
  {
   "attachments": {},
   "cell_type": "markdown",
   "metadata": {},
   "source": [
    "### Modules needed for load XY files and ploting the data"
   ]
  },
  {
   "cell_type": "code",
   "execution_count": 1,
   "metadata": {},
   "outputs": [],
   "source": [
    "# --- matplotlib --------------------------------------------------------------\n",
    "import matplotlib.pyplot as plt\n",
    "\n",
    "# --- Our own modules ---------------------------------------------------------\n",
    "import sys\n",
    "\n",
    "# permatent location of functions from pyFitXPS\n",
    "sys.path.insert(0, '/home/julio/Python/pyFitXPS/pyfitxps/') # Julio Laptop\n",
    "#sys.path.insert(0, '/Users/ceciliapatrault/Desktop/Julio/XPS_PYTHON/paquetes_funciones') # Mac\n",
    "import specs_xy as sp"
   ]
  },
  {
   "attachments": {},
   "cell_type": "markdown",
   "metadata": {},
   "source": [
    "search and listing the files in folder located realive to this notebook"
   ]
  },
  {
   "cell_type": "code",
   "execution_count": 2,
   "metadata": {},
   "outputs": [
    {
     "name": "stdout",
     "output_type": "stream",
     "text": [
      "data/separated/\n",
      "['data/separated/Au_MeMBA_5min_27_C (3).xy', 'data/separated/Au_MeMBA_5min_20_O (1).xy', 'data/separated/Au_MeMBA_5min_23_Au (2).xy', 'data/separated/Au_MeMBA_5min_16_S (1).xy', 'data/separated/Au_MeMBA_5min_15_O (0).xy', 'data/separated/Au_MeMBA_5min_24_VB (2).xy', 'data/separated/Au_MeMBA_5min_14_VB (0).xy', 'data/separated/Au_MeMBA_5min_10_Survey (0).xy', 'data/separated/Au_MeMBA_5min_19_VB (1).xy', 'data/separated/Au_MeMBA_5min_18_Au (1).xy', 'data/separated/Au_MeMBA_5min_21_S (2).xy', 'data/separated/Au_MeMBA_5min_17_C (1).xy', 'data/separated/Au_MeMBA_5min_30_O (3).xy', 'data/separated/Au_MeMBA_5min_25_O (2).xy', 'data/separated/Au_MeMBA_5min_28_Au (3).xy', 'data/separated/Au_MeMBA_5min_12_C (0).xy', 'data/separated/Au_MeMBA_5min_29_VB (3).xy', 'data/separated/Au_MeMBA_5min_11_S (0).xy', 'data/separated/Au_MeMBA_5min_13_Au (0).xy', 'data/separated/Au_MeMBA_5min_26_S (3).xy', 'data/separated/Au_MeMBA_5min_22_C (2).xy']\n"
     ]
    }
   ],
   "source": [
    "folder_path = \"data/separated/\"\n",
    "\n",
    "# the module specs_xy as sp have the function \"list_files_xy()\"\n",
    "files = sp.list_files_xy(folder_path)\n",
    "\n",
    "print(files)"
   ]
  },
  {
   "attachments": {},
   "cell_type": "markdown",
   "metadata": {},
   "source": [
    "the module `specs_xy` have two functions to load files:\n",
    "1) `load_one_file_xy()`. The data is loaded as **dictionary**\n",
    "2) `load_all_xy_files_in()`. Read all .xy files in a folder, and store all data in one dictionary. Each element in that dictionary, is a dictiorary as loaded with the previous function. The full dictionary is ordered alfabetically."
   ]
  },
  {
   "cell_type": "code",
   "execution_count": 3,
   "metadata": {},
   "outputs": [
    {
     "name": "stdout",
     "output_type": "stream",
     "text": [
      "\u001b[0;31mSignature:\u001b[0m \u001b[0msp\u001b[0m\u001b[0;34m.\u001b[0m\u001b[0mload_one_file_xy\u001b[0m\u001b[0;34m(\u001b[0m\u001b[0mfilename\u001b[0m\u001b[0;34m)\u001b[0m\u001b[0;34m\u001b[0m\u001b[0;34m\u001b[0m\u001b[0m\n",
      "\u001b[0;31mDocstring:\u001b[0m\n",
      "Read one .xy file and store info in a dictionary\n",
      "\n",
      "Parameters\n",
      "----------\n",
      "filename : TYPE\n",
      "    DESCRIPTION.\n",
      "\n",
      "Returns\n",
      "-------\n",
      "dict with two elements: 'details' and 'data_orig':\n",
      "    'details' is a dict wich store the info from adquisition parameters\n",
      "    'data_orig' dict which contain tuples for orinigal data as two elements:\n",
      "        keys:\n",
      "            ['BE'] binding energy\n",
      "            ['KE'] kinetic energy\n",
      "            ['intensity'] intensity (counts or counst per second)\n",
      "\n",
      "for example:\n",
      "    dict['details']['Pass Energy'] give the pass energy of the adquisition\n",
      "    dict['data_orig']['BE'] give the x-axis for binding energy\n",
      "    dict['data_orig']['intensity'] give the y-axis for intensity\n",
      "\u001b[0;31mFile:\u001b[0m      ~/Python/pyFitXPS/pyfitxps/specs_xy.py\n",
      "\u001b[0;31mType:\u001b[0m      function\n"
     ]
    }
   ],
   "source": [
    "sp.load_one_file_xy?"
   ]
  },
  {
   "cell_type": "code",
   "execution_count": 4,
   "metadata": {},
   "outputs": [
    {
     "name": "stdout",
     "output_type": "stream",
     "text": [
      "Object `sp.load_all_file_xy_in` not found.\n"
     ]
    }
   ],
   "source": [
    "sp.load_all_file_xy_in?"
   ]
  },
  {
   "attachments": {},
   "cell_type": "markdown",
   "metadata": {},
   "source": [
    "## Loading ONE .xy file\n",
    "Example of use for `load_one_xy_file()` :"
   ]
  },
  {
   "cell_type": "code",
   "execution_count": 5,
   "metadata": {},
   "outputs": [],
   "source": [
    "survey = sp.load_one_file_xy('data/separated/Au_MeMBA_5min_10_Survey (0).xy')"
   ]
  },
  {
   "attachments": {},
   "cell_type": "markdown",
   "metadata": {},
   "source": [
    "then, the sructure of each spectrum is"
   ]
  },
  {
   "cell_type": "code",
   "execution_count": 6,
   "metadata": {},
   "outputs": [
    {
     "data": {
      "text/plain": [
       "dict"
      ]
     },
     "execution_count": 6,
     "metadata": {},
     "output_type": "execute_result"
    }
   ],
   "source": [
    "type(survey)"
   ]
  },
  {
   "cell_type": "code",
   "execution_count": 7,
   "metadata": {},
   "outputs": [
    {
     "data": {
      "text/plain": [
       "dict_keys(['details', 'data_orig'])"
      ]
     },
     "execution_count": 7,
     "metadata": {},
     "output_type": "execute_result"
    }
   ],
   "source": [
    "survey.keys()"
   ]
  },
  {
   "cell_type": "code",
   "execution_count": 8,
   "metadata": {},
   "outputs": [
    {
     "data": {
      "text/plain": [
       "dict_keys(['Region', 'Acquisition Date', 'Analysis Method', 'Analyzer Lens', 'Analyzer Slit', 'Scan Mode', 'Curves/Scan', 'Values/Curve', 'Dwell Time', 'Excitation Energy', 'Binding Energy', 'Pass Energy', 'Bias Voltage', 'Detector Voltage', 'Eff. Workfunction', 'Source', 'Comment', 'Number of Scans'])"
      ]
     },
     "execution_count": 8,
     "metadata": {},
     "output_type": "execute_result"
    }
   ],
   "source": [
    "survey['details'].keys()"
   ]
  },
  {
   "cell_type": "code",
   "execution_count": 9,
   "metadata": {},
   "outputs": [
    {
     "data": {
      "text/plain": [
       "dict_keys(['BE', 'KE', 'intensity'])"
      ]
     },
     "execution_count": 9,
     "metadata": {},
     "output_type": "execute_result"
    }
   ],
   "source": [
    "survey['data_orig'].keys()"
   ]
  },
  {
   "cell_type": "code",
   "execution_count": 10,
   "metadata": {},
   "outputs": [
    {
     "data": {
      "text/plain": [
       "numpy.ndarray"
      ]
     },
     "execution_count": 10,
     "metadata": {},
     "output_type": "execute_result"
    }
   ],
   "source": [
    "type(survey['data_orig']['BE'])"
   ]
  },
  {
   "cell_type": "code",
   "execution_count": 11,
   "metadata": {},
   "outputs": [
    {
     "data": {
      "text/plain": [
       "array([-1.100e+03, -1.099e+03, -1.098e+03, ..., -0.000e+00,  1.000e+00,\n",
       "        2.000e+00])"
      ]
     },
     "execution_count": 11,
     "metadata": {},
     "output_type": "execute_result"
    }
   ],
   "source": [
    "survey['data_orig']['BE']"
   ]
  },
  {
   "cell_type": "code",
   "execution_count": 12,
   "metadata": {},
   "outputs": [
    {
     "data": {
      "text/plain": [
       "array([3.4533572e+04, 3.3984171e+04, 3.4245547e+04, ..., 2.6476600e+01,\n",
       "       2.4925190e+01, 2.9589760e+01])"
      ]
     },
     "execution_count": 12,
     "metadata": {},
     "output_type": "execute_result"
    }
   ],
   "source": [
    "survey['data_orig']['intensity']"
   ]
  },
  {
   "attachments": {},
   "cell_type": "markdown",
   "metadata": {},
   "source": [
    "Then, one can plot the data as"
   ]
  },
  {
   "cell_type": "code",
   "execution_count": 13,
   "metadata": {},
   "outputs": [
    {
     "data": {
      "text/plain": [
       "Text(0, 0.5, 'Intensity [cps]')"
      ]
     },
     "execution_count": 13,
     "metadata": {},
     "output_type": "execute_result"
    },
    {
     "data": {
      "image/png": "[encoded data removed]",
      "text/plain": [
       "<Figure size 640x480 with 1 Axes>"
      ]
     },
     "metadata": {},
     "output_type": "display_data"
    }
   ],
   "source": [
    "plt.plot(survey['data_orig']['BE'],survey['data_orig']['intensity'])\n",
    "plt.xlabel('BE [eV]')\n",
    "plt.ylabel('Intensity [cps]')"
   ]
  },
  {
   "attachments": {},
   "cell_type": "markdown",
   "metadata": {},
   "source": [
    "## Loading ALL .xy files\n",
    "Example of use for `load_all_xy_files_in()`"
   ]
  },
  {
   "cell_type": "code",
   "execution_count": 14,
   "metadata": {},
   "outputs": [
    {
     "name": "stdout",
     "output_type": "stream",
     "text": [
      "data/separated/\n",
      "['data/separated/Au_MeMBA_5min_27_C (3).xy', 'data/separated/Au_MeMBA_5min_20_O (1).xy', 'data/separated/Au_MeMBA_5min_23_Au (2).xy', 'data/separated/Au_MeMBA_5min_16_S (1).xy', 'data/separated/Au_MeMBA_5min_15_O (0).xy', 'data/separated/Au_MeMBA_5min_24_VB (2).xy', 'data/separated/Au_MeMBA_5min_14_VB (0).xy', 'data/separated/Au_MeMBA_5min_10_Survey (0).xy', 'data/separated/Au_MeMBA_5min_19_VB (1).xy', 'data/separated/Au_MeMBA_5min_18_Au (1).xy', 'data/separated/Au_MeMBA_5min_21_S (2).xy', 'data/separated/Au_MeMBA_5min_17_C (1).xy', 'data/separated/Au_MeMBA_5min_30_O (3).xy', 'data/separated/Au_MeMBA_5min_25_O (2).xy', 'data/separated/Au_MeMBA_5min_28_Au (3).xy', 'data/separated/Au_MeMBA_5min_12_C (0).xy', 'data/separated/Au_MeMBA_5min_29_VB (3).xy', 'data/separated/Au_MeMBA_5min_11_S (0).xy', 'data/separated/Au_MeMBA_5min_13_Au (0).xy', 'data/separated/Au_MeMBA_5min_26_S (3).xy', 'data/separated/Au_MeMBA_5min_22_C (2).xy']\n"
     ]
    }
   ],
   "source": [
    "# declaring the folder where all file are located\n",
    "\n",
    "folder_path = \"data/separated/\"\n",
    "\n",
    "# the module specs_xy as sp have the function \"list_files_xy()\"\n",
    "files = sp.list_files_xy(folder_path)\n",
    "\n",
    "print(files)"
   ]
  },
  {
   "cell_type": "code",
   "execution_count": 16,
   "metadata": {},
   "outputs": [],
   "source": [
    "# The name of sample or experiment is \"Au_MeMBA_5min\", \n",
    "# and every spectra (.xy file) have the same initial name. Then, for practicity\n",
    "# we declare the name of the variable wich will contain the full dictionary\n",
    "\n",
    "Au_MeMBA_5min = sp.load_all_files_xy_in(folder_path)\n"
   ]
  },
  {
   "attachments": {},
   "cell_type": "markdown",
   "metadata": {},
   "source": [
    "Then, we can see what elements are contained in the dictionary"
   ]
  },
  {
   "cell_type": "code",
   "execution_count": 17,
   "metadata": {},
   "outputs": [
    {
     "data": {
      "text/plain": [
       "odict_keys(['Au (0)', 'Au (1)', 'Au (2)', 'Au (3)', 'C (0)', 'C (1)', 'C (2)', 'C (3)', 'O (0)', 'O (1)', 'O (2)', 'O_3', 'S (0)', 'S (1)', 'S (2)', 'S (3)', 'Survey (0)', 'VB (0)', 'VB (1)', 'VB (2)', 'VB (3)'])"
      ]
     },
     "execution_count": 17,
     "metadata": {},
     "output_type": "execute_result"
    }
   ],
   "source": [
    "Au_MeMBA_5min.keys()"
   ]
  },
  {
   "attachments": {},
   "cell_type": "markdown",
   "metadata": {},
   "source": [
    "every element are a dictionary with all data of each spectra:"
   ]
  },
  {
   "cell_type": "code",
   "execution_count": 18,
   "metadata": {},
   "outputs": [
    {
     "data": {
      "text/plain": [
       "dict_keys(['details', 'data_orig'])"
      ]
     },
     "execution_count": 18,
     "metadata": {},
     "output_type": "execute_result"
    }
   ],
   "source": [
    "Au_MeMBA_5min['Au (0)'].keys()"
   ]
  },
  {
   "cell_type": "code",
   "execution_count": 19,
   "metadata": {},
   "outputs": [
    {
     "data": {
      "text/plain": [
       "{'details': {'Region': 'Au (0)',\n",
       "  'Acquisition Date': '06/10/22 18:25:39 UTC',\n",
       "  'Analysis Method': 'XPS',\n",
       "  'Analyzer Lens': 'MediumArea:3.5kV',\n",
       "  'Analyzer Slit': '5:7x20\\\\B:open',\n",
       "  'Scan Mode': 'FixedAnalyzerTransmission',\n",
       "  'Curves/Scan': 1,\n",
       "  'Values/Curve': 281,\n",
       "  'Dwell Time': 0.1,\n",
       "  'Excitation Energy': 1486.71,\n",
       "  'Binding Energy': 94.0,\n",
       "  'Pass Energy': 20.0,\n",
       "  'Bias Voltage': 90.0,\n",
       "  'Detector Voltage': 1750.0,\n",
       "  'Eff. Workfunction': 4.341,\n",
       "  'Source': 'Focus',\n",
       "  'Comment': 'sin irradiar',\n",
       "  'Number of Scans': 5},\n",
       " 'data_orig': {'BE': array([-94.  , -93.95, -93.9 , -93.85, -93.8 , -93.75, -93.7 , -93.65,\n",
       "         -93.6 , -93.55, -93.5 , -93.45, -93.4 , -93.35, -93.3 , -93.25,\n",
       "         -93.2 , -93.15, -93.1 , -93.05, -93.  , -92.95, -92.9 , -92.85,\n",
       "         -92.8 , -92.75, -92.7 , -92.65, -92.6 , -92.55, -92.5 , -92.45,\n",
       "         -92.4 , -92.35, -92.3 , -92.25, -92.2 , -92.15, -92.1 , -92.05,\n",
       "         -92.  , -91.95, -91.9 , -91.85, -91.8 , -91.75, -91.7 , -91.65,\n",
       "         -91.6 , -91.55, -91.5 , -91.45, -91.4 , -91.35, -91.3 , -91.25,\n",
       "         -91.2 , -91.15, -91.1 , -91.05, -91.  , -90.95, -90.9 , -90.85,\n",
       "         -90.8 , -90.75, -90.7 , -90.65, -90.6 , -90.55, -90.5 , -90.45,\n",
       "         -90.4 , -90.35, -90.3 , -90.25, -90.2 , -90.15, -90.1 , -90.05,\n",
       "         -90.  , -89.95, -89.9 , -89.85, -89.8 , -89.75, -89.7 , -89.65,\n",
       "         -89.6 , -89.55, -89.5 , -89.45, -89.4 , -89.35, -89.3 , -89.25,\n",
       "         -89.2 , -89.15, -89.1 , -89.05, -89.  , -88.95, -88.9 , -88.85,\n",
       "         -88.8 , -88.75, -88.7 , -88.65, -88.6 , -88.55, -88.5 , -88.45,\n",
       "         -88.4 , -88.35, -88.3 , -88.25, -88.2 , -88.15, -88.1 , -88.05,\n",
       "         -88.  , -87.95, -87.9 , -87.85, -87.8 , -87.75, -87.7 , -87.65,\n",
       "         -87.6 , -87.55, -87.5 , -87.45, -87.4 , -87.35, -87.3 , -87.25,\n",
       "         -87.2 , -87.15, -87.1 , -87.05, -87.  , -86.95, -86.9 , -86.85,\n",
       "         -86.8 , -86.75, -86.7 , -86.65, -86.6 , -86.55, -86.5 , -86.45,\n",
       "         -86.4 , -86.35, -86.3 , -86.25, -86.2 , -86.15, -86.1 , -86.05,\n",
       "         -86.  , -85.95, -85.9 , -85.85, -85.8 , -85.75, -85.7 , -85.65,\n",
       "         -85.6 , -85.55, -85.5 , -85.45, -85.4 , -85.35, -85.3 , -85.25,\n",
       "         -85.2 , -85.15, -85.1 , -85.05, -85.  , -84.95, -84.9 , -84.85,\n",
       "         -84.8 , -84.75, -84.7 , -84.65, -84.6 , -84.55, -84.5 , -84.45,\n",
       "         -84.4 , -84.35, -84.3 , -84.25, -84.2 , -84.15, -84.1 , -84.05,\n",
       "         -84.  , -83.95, -83.9 , -83.85, -83.8 , -83.75, -83.7 , -83.65,\n",
       "         -83.6 , -83.55, -83.5 , -83.45, -83.4 , -83.35, -83.3 , -83.25,\n",
       "         -83.2 , -83.15, -83.1 , -83.05, -83.  , -82.95, -82.9 , -82.85,\n",
       "         -82.8 , -82.75, -82.7 , -82.65, -82.6 , -82.55, -82.5 , -82.45,\n",
       "         -82.4 , -82.35, -82.3 , -82.25, -82.2 , -82.15, -82.1 , -82.05,\n",
       "         -82.  , -81.95, -81.9 , -81.85, -81.8 , -81.75, -81.7 , -81.65,\n",
       "         -81.6 , -81.55, -81.5 , -81.45, -81.4 , -81.35, -81.3 , -81.25,\n",
       "         -81.2 , -81.15, -81.1 , -81.05, -81.  , -80.95, -80.9 , -80.85,\n",
       "         -80.8 , -80.75, -80.7 , -80.65, -80.6 , -80.55, -80.5 , -80.45,\n",
       "         -80.4 , -80.35, -80.3 , -80.25, -80.2 , -80.15, -80.1 , -80.05,\n",
       "         -80.  ]),\n",
       "  'KE': array([1392.71, 1392.76, 1392.81, 1392.86, 1392.91, 1392.96, 1393.01,\n",
       "         1393.06, 1393.11, 1393.16, 1393.21, 1393.26, 1393.31, 1393.36,\n",
       "         1393.41, 1393.46, 1393.51, 1393.56, 1393.61, 1393.66, 1393.71,\n",
       "         1393.76, 1393.81, 1393.86, 1393.91, 1393.96, 1394.01, 1394.06,\n",
       "         1394.11, 1394.16, 1394.21, 1394.26, 1394.31, 1394.36, 1394.41,\n",
       "         1394.46, 1394.51, 1394.56, 1394.61, 1394.66, 1394.71, 1394.76,\n",
       "         1394.81, 1394.86, 1394.91, 1394.96, 1395.01, 1395.06, 1395.11,\n",
       "         1395.16, 1395.21, 1395.26, 1395.31, 1395.36, 1395.41, 1395.46,\n",
       "         1395.51, 1395.56, 1395.61, 1395.66, 1395.71, 1395.76, 1395.81,\n",
       "         1395.86, 1395.91, 1395.96, 1396.01, 1396.06, 1396.11, 1396.16,\n",
       "         1396.21, 1396.26, 1396.31, 1396.36, 1396.41, 1396.46, 1396.51,\n",
       "         1396.56, 1396.61, 1396.66, 1396.71, 1396.76, 1396.81, 1396.86,\n",
       "         1396.91, 1396.96, 1397.01, 1397.06, 1397.11, 1397.16, 1397.21,\n",
       "         1397.26, 1397.31, 1397.36, 1397.41, 1397.46, 1397.51, 1397.56,\n",
       "         1397.61, 1397.66, 1397.71, 1397.76, 1397.81, 1397.86, 1397.91,\n",
       "         1397.96, 1398.01, 1398.06, 1398.11, 1398.16, 1398.21, 1398.26,\n",
       "         1398.31, 1398.36, 1398.41, 1398.46, 1398.51, 1398.56, 1398.61,\n",
       "         1398.66, 1398.71, 1398.76, 1398.81, 1398.86, 1398.91, 1398.96,\n",
       "         1399.01, 1399.06, 1399.11, 1399.16, 1399.21, 1399.26, 1399.31,\n",
       "         1399.36, 1399.41, 1399.46, 1399.51, 1399.56, 1399.61, 1399.66,\n",
       "         1399.71, 1399.76, 1399.81, 1399.86, 1399.91, 1399.96, 1400.01,\n",
       "         1400.06, 1400.11, 1400.16, 1400.21, 1400.26, 1400.31, 1400.36,\n",
       "         1400.41, 1400.46, 1400.51, 1400.56, 1400.61, 1400.66, 1400.71,\n",
       "         1400.76, 1400.81, 1400.86, 1400.91, 1400.96, 1401.01, 1401.06,\n",
       "         1401.11, 1401.16, 1401.21, 1401.26, 1401.31, 1401.36, 1401.41,\n",
       "         1401.46, 1401.51, 1401.56, 1401.61, 1401.66, 1401.71, 1401.76,\n",
       "         1401.81, 1401.86, 1401.91, 1401.96, 1402.01, 1402.06, 1402.11,\n",
       "         1402.16, 1402.21, 1402.26, 1402.31, 1402.36, 1402.41, 1402.46,\n",
       "         1402.51, 1402.56, 1402.61, 1402.66, 1402.71, 1402.76, 1402.81,\n",
       "         1402.86, 1402.91, 1402.96, 1403.01, 1403.06, 1403.11, 1403.16,\n",
       "         1403.21, 1403.26, 1403.31, 1403.36, 1403.41, 1403.46, 1403.51,\n",
       "         1403.56, 1403.61, 1403.66, 1403.71, 1403.76, 1403.81, 1403.86,\n",
       "         1403.91, 1403.96, 1404.01, 1404.06, 1404.11, 1404.16, 1404.21,\n",
       "         1404.26, 1404.31, 1404.36, 1404.41, 1404.46, 1404.51, 1404.56,\n",
       "         1404.61, 1404.66, 1404.71, 1404.76, 1404.81, 1404.86, 1404.91,\n",
       "         1404.96, 1405.01, 1405.06, 1405.11, 1405.16, 1405.21, 1405.26,\n",
       "         1405.31, 1405.36, 1405.41, 1405.46, 1405.51, 1405.56, 1405.61,\n",
       "         1405.66, 1405.71, 1405.76, 1405.81, 1405.86, 1405.91, 1405.96,\n",
       "         1406.01, 1406.06, 1406.11, 1406.16, 1406.21, 1406.26, 1406.31,\n",
       "         1406.36, 1406.41, 1406.46, 1406.51, 1406.56, 1406.61, 1406.66,\n",
       "         1406.71]),\n",
       "  'intensity': array([  9542.5653,   9676.3531,   9491.5267,   9630.8996,   9649.6262,\n",
       "           9737.7312,   9606.0726,   9642.7381,   9781.9758,   9826.4826,\n",
       "           9750.6734,   9641.777 ,   9815.5972,   9897.111 ,   9895.4725,\n",
       "           9994.7086,  10100.717 ,   9934.1733,  10000.938 ,  10005.524 ,\n",
       "          10012.545 ,  10067.986 ,  10320.065 ,  10400.439 ,  10408.91  ,\n",
       "          10512.727 ,  10327.539 ,  10441.858 ,  10684.305 ,  10916.301 ,\n",
       "          10527.256 ,  10477.431 ,  10625.626 ,  10905.289 ,  10717.89  ,\n",
       "          10671.162 ,  11125.736 ,  11070.746 ,  10977.873 ,  11153.246 ,\n",
       "          11063.044 ,  10886.875 ,  11004.185 ,  11181.167 ,  11232.942 ,\n",
       "          11215.756 ,  11371.076 ,  11235.426 ,  11291.698 ,  11151.207 ,\n",
       "          11523.725 ,  11712.68  ,  11698.289 ,  11396.18  ,  11301.473 ,\n",
       "          11366.794 ,  11537.377 ,  11819.44  ,  11840.727 ,  12034.247 ,\n",
       "          12137.795 ,  12184.624 ,  12472.387 ,  12545.535 ,  12781.923 ,\n",
       "          13338.112 ,  13528.76  ,  13940.064 ,  14305.803 ,  14762.754 ,\n",
       "          15302.359 ,  15909.144 ,  16491.715 ,  17477.118 ,  18397.828 ,\n",
       "          19105.055 ,  20611.992 ,  22141.093 ,  23803.72  ,  25724.853 ,\n",
       "          28142.334 ,  30795.07  ,  35493.068 ,  40127.246 ,  46120.129 ,\n",
       "          53072.131 ,  60178.967 ,  68711.236 ,  77629.808 ,  87920.536 ,\n",
       "          96554.04  , 105133.29  , 112608.9   , 118278.14  , 121292.41  ,\n",
       "         121844.2   , 118548.53  , 112751.31  , 104234.07  ,  93605.432 ,\n",
       "          85179.918 ,  76632.369 ,  68471.205 ,  61526.842 ,  54469.656 ,\n",
       "          48642.558 ,  43437.011 ,  38262.412 ,  33880.001 ,  29325.797 ,\n",
       "          26279.233 ,  23314.833 ,  21023.486 ,  19084.767 ,  17483.795 ,\n",
       "          16252.297 ,  15578.333 ,  14630.585 ,  13917.182 ,  13566.81  ,\n",
       "          12911.039 ,  12673.434 ,  12489.108 ,  12149.916 ,  11805.64  ,\n",
       "          11717.02  ,  11633.848 ,  11422.622 ,  11271.684 ,  11069.912 ,\n",
       "          11147.775 ,  11257.188 ,  11305.809 ,  11200.767 ,  11518.483 ,\n",
       "          11504.033 ,  11701.503 ,  11972.572 ,  12246.447 ,  12520.133 ,\n",
       "          13133.766 ,  13178.173 ,  13541.198 ,  14274.035 ,  14926.492 ,\n",
       "          15818.631 ,  16811.139 ,  17758.124 ,  18850.473 ,  20276.309 ,\n",
       "          21926.559 ,  24148.57  ,  26332.714 ,  29267.163 ,  33958.454 ,\n",
       "          38910.896 ,  44208.493 ,  51724.26  ,  60343.126 ,  70825.868 ,\n",
       "          83171.772 ,  95101.491 , 109529.21  , 123832.25  , 137077.81  ,\n",
       "         148840.7   , 157394.91  , 161985.9   , 163565.47  , 160435.63  ,\n",
       "         151310.6   , 137995.22  , 121764.4   , 104375.56  ,  86915.524 ,\n",
       "          71460.054 ,  59523.138 ,  49249.443 ,  40687.612 ,  33632.781 ,\n",
       "          28119.059 ,  24164.601 ,  20753.718 ,  17572.481 ,  15681.138 ,\n",
       "          13765.45  ,  12369.246 ,  11522.902 ,  10423.502 ,   9502.8695,\n",
       "           8941.5248,   8233.7469,   8092.0317,   7631.8385,   7273.6944,\n",
       "           7022.7875,   6491.6981,   6417.5746,   6031.1328,   6147.1732,\n",
       "           5755.1568,   5609.9033,   5327.87  ,   5033.717 ,   4846.6199,\n",
       "           4926.0366,   4838.6519,   4760.6953,   4630.8958,   4473.5776,\n",
       "           4334.3621,   4103.3845,   4200.6572,   4194.0743,   4060.1653,\n",
       "           4138.7024,   4103.1052,   3844.931 ,   3821.2559,   3706.958 ,\n",
       "           3637.3089,   3577.0517,   3557.247 ,   3455.5199,   3355.0886,\n",
       "           3386.9784,   3429.8083,   3461.8228,   3341.8652,   3298.9823,\n",
       "           3248.8092,   3264.4927,   3208.8502,   3349.9627,   3240.3186,\n",
       "           3137.8083,   3235.3485,   3093.2002,   3136.0787,   3026.1807,\n",
       "           2974.043 ,   3194.9109,   3132.0879,   3009.9849,   2922.5913,\n",
       "           2968.9279,   2989.5607,   2992.6291,   2945.6352,   3066.9281,\n",
       "           3008.1266,   2984.1405,   2964.2256,   2898.7403,   2910.4826,\n",
       "           2946.6315,   2929.8062,   2965.738 ,   2953.6743,   2879.539 ,\n",
       "           2931.4667,   2861.2227,   2908.2403,   2939.4845,   2839.7413,\n",
       "           2734.2991,   2785.4205,   2916.8852,   2800.3079,   2941.8096,\n",
       "           2807.233 ,   2778.3449,   2826.5864,   2826.0718,   2794.5765,\n",
       "           2923.1166,   2684.0948,   2701.8517,   2801.2833,   2757.1323,\n",
       "           2662.8844])}}"
      ]
     },
     "execution_count": 19,
     "metadata": {},
     "output_type": "execute_result"
    }
   ],
   "source": [
    "Au_MeMBA_5min['Au (0)']"
   ]
  },
  {
   "cell_type": "code",
   "execution_count": 21,
   "metadata": {},
   "outputs": [
    {
     "data": {
      "text/plain": [
       "Text(0, 0.5, 'Intensity [cps]')"
      ]
     },
     "execution_count": 21,
     "metadata": {},
     "output_type": "execute_result"
    },
    {
     "data": {
      "image/png": "[encoded data removed]",
      "text/plain": [
       "<Figure size 640x480 with 1 Axes>"
      ]
     },
     "metadata": {},
     "output_type": "display_data"
    }
   ],
   "source": [
    "region = Au_MeMBA_5min['S (0)'] # <-- just changing the key, is easy to \n",
    "                                # see every data\n",
    "\n",
    "plt.plot(region['data_orig']['BE'],region['data_orig']['intensity'])\n",
    "plt.xlabel('BE [eV]')\n",
    "plt.ylabel('Intensity [cps]')"
   ]
  },
  {
   "cell_type": "code",
   "execution_count": null,
   "metadata": {},
   "outputs": [],
   "source": []
  }
 ],
 "metadata": {
  "kernelspec": {
   "display_name": "Python 3 (ipykernel)",
   "language": "python",
   "name": "python3"
  },
  "language_info": {
   "codemirror_mode": {
    "name": "ipython",
    "version": 3
   },
   "file_extension": ".py",
   "mimetype": "text/x-python",
   "name": "python",
   "nbconvert_exporter": "python",
   "pygments_lexer": "ipython3",
   "version": "3.10.8"
  },
  "orig_nbformat": 4,
  "vscode": {
   "interpreter": {
    "hash": "e7370f93d1d0cde622a1f8e1c04877d8463912d04d973331ad4851f04de6915a"
   }
  }
 },
 "nbformat": 4,
 "nbformat_minor": 2
}
