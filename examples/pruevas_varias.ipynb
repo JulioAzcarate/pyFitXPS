{
 "cells": [
  {
   "cell_type": "code",
   "execution_count": 1,
   "metadata": {},
   "outputs": [],
   "source": [
    "# --- matplotlib --------------------------------------------------------------\n",
    "import matplotlib.pyplot as plt\n",
    "\n",
    "# --- Our own modules ---------------------------------------------------------\n",
    "import sys\n",
    "\n",
    "# permatent location of functions from pyFitXPS\n",
    "sys.path.insert(0, '/home/julio/Python/pyFitXPS/functions/') # Julio Laptop\n",
    "#sys.path.insert(0, '/Users/ceciliapatrault/Desktop/Julio/XPS_PYTHON/paquetes_funciones') # Mac\n",
    "import specs_xy as sp"
   ]
  },
  {
   "cell_type": "code",
   "execution_count": 2,
   "metadata": {},
   "outputs": [],
   "source": [
    "folder_path = \"data/separated/\""
   ]
  },
  {
   "cell_type": "code",
   "execution_count": 3,
   "metadata": {},
   "outputs": [
    {
     "name": "stdout",
     "output_type": "stream",
     "text": [
      "data/\n"
     ]
    }
   ],
   "source": [
    "archivos = sp.list_files_xy('data/')"
   ]
  },
  {
   "cell_type": "code",
   "execution_count": 5,
   "metadata": {},
   "outputs": [],
   "source": [
    "archivos"
   ]
  },
  {
   "cell_type": "code",
   "execution_count": 3,
   "metadata": {},
   "outputs": [],
   "source": [
    "Au_MeMBA_5min = sp.load_all_file_xy_in(folder_path)"
   ]
  },
  {
   "cell_type": "code",
   "execution_count": 4,
   "metadata": {},
   "outputs": [
    {
     "data": {
      "text/plain": [
       "dict_keys(['VB (3)', 'S (3)', 'C (1)', 'O (2)', 'VB (0)', 'O_3', 'C (0)', 'VB (1)', 'VB (2)', 'C (3)', 'C (2)', 'S (0)', 'O (0)', 'Au (0)', 'Au (1)', 'Au (3)', 'O (1)', 'Survey (0)', 'S (2)', 'S (1)', 'Au (2)'])"
      ]
     },
     "execution_count": 4,
     "metadata": {},
     "output_type": "execute_result"
    }
   ],
   "source": [
    "Au_MeMBA_5min.keys()"
   ]
  },
  {
   "cell_type": "code",
   "execution_count": 5,
   "metadata": {},
   "outputs": [
    {
     "data": {
      "text/plain": [
       "dict_keys(['details', 'data_orig'])"
      ]
     },
     "execution_count": 5,
     "metadata": {},
     "output_type": "execute_result"
    }
   ],
   "source": [
    "Au_MeMBA_5min['VB (3)'].keys()"
   ]
  },
  {
   "cell_type": "code",
   "execution_count": 6,
   "metadata": {},
   "outputs": [],
   "source": [
    "files = sorted(os.listdir(folder_path))"
   ]
  },
  {
   "cell_type": "code",
   "execution_count": 7,
   "metadata": {},
   "outputs": [
    {
     "data": {
      "text/plain": [
       "['Au_MeMBA_5min_10_Survey (0).xy',\n",
       " 'Au_MeMBA_5min_11_S (0).xy',\n",
       " 'Au_MeMBA_5min_12_C (0).xy',\n",
       " 'Au_MeMBA_5min_13_Au (0).xy',\n",
       " 'Au_MeMBA_5min_14_VB (0).xy',\n",
       " 'Au_MeMBA_5min_15_O (0).xy',\n",
       " 'Au_MeMBA_5min_16_S (1).xy',\n",
       " 'Au_MeMBA_5min_17_C (1).xy',\n",
       " 'Au_MeMBA_5min_18_Au (1).xy',\n",
       " 'Au_MeMBA_5min_19_VB (1).xy',\n",
       " 'Au_MeMBA_5min_20_O (1).xy',\n",
       " 'Au_MeMBA_5min_21_S (2).xy',\n",
       " 'Au_MeMBA_5min_22_C (2).xy',\n",
       " 'Au_MeMBA_5min_23_Au (2).xy',\n",
       " 'Au_MeMBA_5min_24_VB (2).xy',\n",
       " 'Au_MeMBA_5min_25_O (2).xy',\n",
       " 'Au_MeMBA_5min_26_S (3).xy',\n",
       " 'Au_MeMBA_5min_27_C (3).xy',\n",
       " 'Au_MeMBA_5min_28_Au (3).xy',\n",
       " 'Au_MeMBA_5min_29_VB (3).xy',\n",
       " 'Au_MeMBA_5min_30_O (3).xy']"
      ]
     },
     "execution_count": 7,
     "metadata": {},
     "output_type": "execute_result"
    }
   ],
   "source": [
    "files"
   ]
  },
  {
   "cell_type": "code",
   "execution_count": 4,
   "metadata": {},
   "outputs": [
    {
     "name": "stdout",
     "output_type": "stream",
     "text": [
      "data/separated/Au_MeMBA_5min_10_Survey (0).xy\n",
      "data/separated/Au_MeMBA_5min_11_S (0).xy\n",
      "data/separated/Au_MeMBA_5min_12_C (0).xy\n",
      "data/separated/Au_MeMBA_5min_13_Au (0).xy\n",
      "data/separated/Au_MeMBA_5min_14_VB (0).xy\n",
      "data/separated/Au_MeMBA_5min_15_O (0).xy\n",
      "data/separated/Au_MeMBA_5min_16_S (1).xy\n",
      "data/separated/Au_MeMBA_5min_17_C (1).xy\n",
      "data/separated/Au_MeMBA_5min_18_Au (1).xy\n",
      "data/separated/Au_MeMBA_5min_19_VB (1).xy\n",
      "data/separated/Au_MeMBA_5min_20_O (1).xy\n",
      "data/separated/Au_MeMBA_5min_21_S (2).xy\n",
      "data/separated/Au_MeMBA_5min_22_C (2).xy\n",
      "data/separated/Au_MeMBA_5min_23_Au (2).xy\n",
      "data/separated/Au_MeMBA_5min_24_VB (2).xy\n",
      "data/separated/Au_MeMBA_5min_25_O (2).xy\n",
      "data/separated/Au_MeMBA_5min_26_S (3).xy\n",
      "data/separated/Au_MeMBA_5min_27_C (3).xy\n",
      "data/separated/Au_MeMBA_5min_28_Au (3).xy\n",
      "data/separated/Au_MeMBA_5min_29_VB (3).xy\n",
      "data/separated/Au_MeMBA_5min_30_O (3).xy\n"
     ]
    }
   ],
   "source": [
    "for filename in files:\n",
    "    print(folder_path + filename)"
   ]
  }
 ],
 "metadata": {
  "kernelspec": {
   "display_name": "Python 3",
   "language": "python",
   "name": "python3"
  },
  "language_info": {
   "codemirror_mode": {
    "name": "ipython",
    "version": 3
   },
   "file_extension": ".py",
   "mimetype": "text/x-python",
   "name": "python",
   "nbconvert_exporter": "python",
   "pygments_lexer": "ipython3",
   "version": "3.10.8"
  },
  "orig_nbformat": 4,
  "vscode": {
   "interpreter": {
    "hash": "e7370f93d1d0cde622a1f8e1c04877d8463912d04d973331ad4851f04de6915a"
   }
  }
 },
 "nbformat": 4,
 "nbformat_minor": 2
}
