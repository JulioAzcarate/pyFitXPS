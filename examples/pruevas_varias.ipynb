{
 "cells": [
  {
   "attachments": {},
   "cell_type": "markdown",
   "metadata": {},
   "source": [
    "# String to Variable"
   ]
  },
  {
   "cell_type": "code",
   "execution_count": 3,
   "metadata": {},
   "outputs": [],
   "source": [
    "# --- matplotlib --------------------------------------------------------------\n",
    "import matplotlib.pyplot as plt\n",
    "\n",
    "# --- Our own modules ---------------------------------------------------------\n",
    "import sys\n",
    "\n",
    "# permatent location of functions from pyFitXPS\n",
    "sys.path.insert(0, '/home/julio/Python/pyFitXPS/functions/') # Julio Laptop\n",
    "#sys.path.insert(0, '/Users/ceciliapatrault/Desktop/Julio/XPS_PYTHON/paquetes_funciones') # Mac\n",
    "import specs_xy as sp"
   ]
  },
  {
   "cell_type": "code",
   "execution_count": 4,
   "metadata": {},
   "outputs": [],
   "source": [
    "folder_path = \"data/separated/\""
   ]
  },
  {
   "cell_type": "code",
   "execution_count": 5,
   "metadata": {},
   "outputs": [],
   "source": [
    "files = sorted(os.listdir(folder_path))"
   ]
  },
  {
   "cell_type": "code",
   "execution_count": 6,
   "metadata": {},
   "outputs": [
    {
     "name": "stdout",
     "output_type": "stream",
     "text": [
      "data/separated/Au_MeMBA_5min_10_Survey (0).xy\n",
      "data/separated/Au_MeMBA_5min_11_S (0).xy\n",
      "data/separated/Au_MeMBA_5min_12_C (0).xy\n",
      "data/separated/Au_MeMBA_5min_13_Au (0).xy\n",
      "data/separated/Au_MeMBA_5min_14_VB (0).xy\n",
      "data/separated/Au_MeMBA_5min_15_O (0).xy\n",
      "data/separated/Au_MeMBA_5min_16_S (1).xy\n",
      "data/separated/Au_MeMBA_5min_17_C (1).xy\n",
      "data/separated/Au_MeMBA_5min_18_Au (1).xy\n",
      "data/separated/Au_MeMBA_5min_19_VB (1).xy\n",
      "data/separated/Au_MeMBA_5min_20_O (1).xy\n",
      "data/separated/Au_MeMBA_5min_21_S (2).xy\n",
      "data/separated/Au_MeMBA_5min_22_C (2).xy\n",
      "data/separated/Au_MeMBA_5min_23_Au (2).xy\n",
      "data/separated/Au_MeMBA_5min_24_VB (2).xy\n",
      "data/separated/Au_MeMBA_5min_25_O (2).xy\n",
      "data/separated/Au_MeMBA_5min_26_S (3).xy\n",
      "data/separated/Au_MeMBA_5min_27_C (3).xy\n",
      "data/separated/Au_MeMBA_5min_28_Au (3).xy\n",
      "data/separated/Au_MeMBA_5min_29_VB (3).xy\n",
      "data/separated/Au_MeMBA_5min_30_O (3).xy\n"
     ]
    }
   ],
   "source": [
    "for filename in files:\n",
    "    print(folder_path + filename)"
   ]
  },
  {
   "cell_type": "code",
   "execution_count": 7,
   "metadata": {},
   "outputs": [],
   "source": [
    "regiones = sp.load_all_file_xy_in(folder_path)"
   ]
  },
  {
   "cell_type": "code",
   "execution_count": 8,
   "metadata": {},
   "outputs": [
    {
     "data": {
      "text/plain": [
       "[None,\n",
       " None,\n",
       " None,\n",
       " None,\n",
       " None,\n",
       " None,\n",
       " None,\n",
       " None,\n",
       " None,\n",
       " None,\n",
       " None,\n",
       " None,\n",
       " None,\n",
       " None,\n",
       " None,\n",
       " None,\n",
       " None,\n",
       " None,\n",
       " None,\n",
       " None,\n",
       " None]"
      ]
     },
     "execution_count": 8,
     "metadata": {},
     "output_type": "execute_result"
    }
   ],
   "source": [
    "regiones"
   ]
  },
  {
   "cell_type": "code",
   "execution_count": 9,
   "metadata": {},
   "outputs": [],
   "source": [
    "from numpy import genfromtxt"
   ]
  },
  {
   "cell_type": "code",
   "execution_count": 10,
   "metadata": {},
   "outputs": [],
   "source": [
    "filename = 'Au_MeMBA_5min_29_VB (3).xy'"
   ]
  },
  {
   "cell_type": "code",
   "execution_count": 11,
   "metadata": {},
   "outputs": [],
   "source": [
    "file = open('data/separated/Au_MeMBA_5min_29_VB (3).xy', 'r')\n",
    "dict_details = {} # create the emty dict to store the details of experiment\n",
    "        \n",
    "details_par = ( # parameters to read from comment lines in .xy file\n",
    "    'Region',\n",
    "    'Acquisition Date',\n",
    "    'Analysis Method',\n",
    "    'Analyzer',\n",
    "    'Analyzer Lens',\n",
    "    'Analyzer Slit',\n",
    "    'Scan Mode',\n",
    "    'Curves/Scan',\n",
    "    'Values/Curve',\n",
    "    'Dwell Time',\n",
    "    'Excitation Energy',\n",
    "    'Binding Energy',\n",
    "    'Pass Energy',\n",
    "    'Bias Voltage',\n",
    "    'Detector Voltage',\n",
    "    'Eff. Workfunction',\n",
    "    'Source',\n",
    "    'Comment',\n",
    "    'Number of Scans',\n",
    "    )\n",
    "        \n",
    "for x in file:\n",
    "    if '# ' in x:\n",
    "        z = x.replace(\"# \", \"\")\n",
    "        (k,v) = z.split(\":\", maxsplit=1) # splir the string after the first \":\"\n",
    "        if k in details_par: # just take the listed keys\n",
    "            dict_details.update({k.strip(): v.strip()}) # add the k and v to dict\n",
    "dict_xy = {'details': dict_details, \n",
    "           } # create the final dict\n",
    "        \n",
    "# key for parameter values to be converted to each proper type\n",
    "par_float = ('Dwell Time','Excitation Energy','Binding Energy','Pass Energy',\n",
    "'Bias Voltage','Detector Voltage','Eff. Workfunction','Number of Scans',)\n",
    "par_int = ('Curves/Scan','Values/Curve','Number of Scans')\n",
    "        \n",
    "for keys in par_float:\n",
    "    dict_xy['details'][keys] = float(dict_xy['details'][keys])\n",
    "for keys in par_int:\n",
    "    dict_xy['details'][keys] = int(dict_xy['details'][keys])\n",
    "        \n",
    "# closing the opened file\n",
    "file.close()\n",
    "        \n",
    "# read file with numpy.genfromtxt and create one numpy.array pear each column\n",
    "# and store them as \"unwritable\" np.array.\n",
    "BE, intensity = genfromtxt(folder_path + filename, comments='#', unpack=True)\n",
    "BE = BE * (-1)\n",
    "KE = dict_xy['details']['Excitation Energy'] + BE\n",
    "        \n",
    "# convert BE, KE, intensity for original data as \"unwritable\" to perserve it\n",
    "BE.setflags(write=False)\n",
    "KE.setflags(write=False)\n",
    "intensity.setflags(write=False)\n",
    "        \n",
    "data = {}\n",
    "data.update({'BE':BE})\n",
    "data.update({'KE':KE})\n",
    "data.update({'intensity':intensity})\n",
    "        \n",
    "dict_xy.update({'data_orig': data})\n",
    "conv_str_var = sys.modules[__name__]\n",
    "setattr(conv_str_var, # _objet\n",
    "    dict_xy['details']['Region'], # _name: str ... det_dic['region'] = 'region_name'\n",
    "    dict_xy, # __value: new assigned value to the variable \"name\"\n",
    "    )"
   ]
  },
  {
   "cell_type": "code",
   "execution_count": 12,
   "metadata": {},
   "outputs": [],
   "source": [
    "conv_str_var = sys.modules[__name__]\n",
    "new_region_name = dict_xy['details']['Region'].replace(\" (\", \"_\").replace(\")\",\"\")\n",
    "j = setattr(conv_str_var, # _objet\n",
    "            new_region_name, # _name: str ... det_dic['region'] = 'region_name'\n",
    "            dict_xy, # __value: new assigned value to the variable \"name\"\n",
    "    )"
   ]
  },
  {
   "cell_type": "code",
   "execution_count": 13,
   "metadata": {},
   "outputs": [
    {
     "data": {
      "text/plain": [
       "{'details': {'Region': 'VB (3)',\n",
       "  'Acquisition Date': '06/10/22 20:46:44 UTC',\n",
       "  'Analysis Method': 'XPS',\n",
       "  'Analyzer Lens': 'MediumArea:3.5kV',\n",
       "  'Analyzer Slit': '5:7x20\\\\B:open',\n",
       "  'Scan Mode': 'FixedAnalyzerTransmission',\n",
       "  'Curves/Scan': 1,\n",
       "  'Values/Curve': 281,\n",
       "  'Dwell Time': 0.1,\n",
       "  'Excitation Energy': 1486.71,\n",
       "  'Binding Energy': 12.0,\n",
       "  'Pass Energy': 20.0,\n",
       "  'Bias Voltage': 90.0,\n",
       "  'Detector Voltage': 1750.0,\n",
       "  'Eff. Workfunction': 4.341,\n",
       "  'Source': 'Focus',\n",
       "  'Comment': \"15'irrad\",\n",
       "  'Number of Scans': 5},\n",
       " 'data_orig': {'BE': array([-12.  , -11.95, -11.9 , -11.85, -11.8 , -11.75, -11.7 , -11.65,\n",
       "         -11.6 , -11.55, -11.5 , -11.45, -11.4 , -11.35, -11.3 , -11.25,\n",
       "         -11.2 , -11.15, -11.1 , -11.05, -11.  , -10.95, -10.9 , -10.85,\n",
       "         -10.8 , -10.75, -10.7 , -10.65, -10.6 , -10.55, -10.5 , -10.45,\n",
       "         -10.4 , -10.35, -10.3 , -10.25, -10.2 , -10.15, -10.1 , -10.05,\n",
       "         -10.  ,  -9.95,  -9.9 ,  -9.85,  -9.8 ,  -9.75,  -9.7 ,  -9.65,\n",
       "          -9.6 ,  -9.55,  -9.5 ,  -9.45,  -9.4 ,  -9.35,  -9.3 ,  -9.25,\n",
       "          -9.2 ,  -9.15,  -9.1 ,  -9.05,  -9.  ,  -8.95,  -8.9 ,  -8.85,\n",
       "          -8.8 ,  -8.75,  -8.7 ,  -8.65,  -8.6 ,  -8.55,  -8.5 ,  -8.45,\n",
       "          -8.4 ,  -8.35,  -8.3 ,  -8.25,  -8.2 ,  -8.15,  -8.1 ,  -8.05,\n",
       "          -8.  ,  -7.95,  -7.9 ,  -7.85,  -7.8 ,  -7.75,  -7.7 ,  -7.65,\n",
       "          -7.6 ,  -7.55,  -7.5 ,  -7.45,  -7.4 ,  -7.35,  -7.3 ,  -7.25,\n",
       "          -7.2 ,  -7.15,  -7.1 ,  -7.05,  -7.  ,  -6.95,  -6.9 ,  -6.85,\n",
       "          -6.8 ,  -6.75,  -6.7 ,  -6.65,  -6.6 ,  -6.55,  -6.5 ,  -6.45,\n",
       "          -6.4 ,  -6.35,  -6.3 ,  -6.25,  -6.2 ,  -6.15,  -6.1 ,  -6.05,\n",
       "          -6.  ,  -5.95,  -5.9 ,  -5.85,  -5.8 ,  -5.75,  -5.7 ,  -5.65,\n",
       "          -5.6 ,  -5.55,  -5.5 ,  -5.45,  -5.4 ,  -5.35,  -5.3 ,  -5.25,\n",
       "          -5.2 ,  -5.15,  -5.1 ,  -5.05,  -5.  ,  -4.95,  -4.9 ,  -4.85,\n",
       "          -4.8 ,  -4.75,  -4.7 ,  -4.65,  -4.6 ,  -4.55,  -4.5 ,  -4.45,\n",
       "          -4.4 ,  -4.35,  -4.3 ,  -4.25,  -4.2 ,  -4.15,  -4.1 ,  -4.05,\n",
       "          -4.  ,  -3.95,  -3.9 ,  -3.85,  -3.8 ,  -3.75,  -3.7 ,  -3.65,\n",
       "          -3.6 ,  -3.55,  -3.5 ,  -3.45,  -3.4 ,  -3.35,  -3.3 ,  -3.25,\n",
       "          -3.2 ,  -3.15,  -3.1 ,  -3.05,  -3.  ,  -2.95,  -2.9 ,  -2.85,\n",
       "          -2.8 ,  -2.75,  -2.7 ,  -2.65,  -2.6 ,  -2.55,  -2.5 ,  -2.45,\n",
       "          -2.4 ,  -2.35,  -2.3 ,  -2.25,  -2.2 ,  -2.15,  -2.1 ,  -2.05,\n",
       "          -2.  ,  -1.95,  -1.9 ,  -1.85,  -1.8 ,  -1.75,  -1.7 ,  -1.65,\n",
       "          -1.6 ,  -1.55,  -1.5 ,  -1.45,  -1.4 ,  -1.35,  -1.3 ,  -1.25,\n",
       "          -1.2 ,  -1.15,  -1.1 ,  -1.05,  -1.  ,  -0.95,  -0.9 ,  -0.85,\n",
       "          -0.8 ,  -0.75,  -0.7 ,  -0.65,  -0.6 ,  -0.55,  -0.5 ,  -0.45,\n",
       "          -0.4 ,  -0.35,  -0.3 ,  -0.25,  -0.2 ,  -0.15,  -0.1 ,  -0.05,\n",
       "          -0.  ,   0.05,   0.1 ,   0.15,   0.2 ,   0.25,   0.3 ,   0.35,\n",
       "           0.4 ,   0.45,   0.5 ,   0.55,   0.6 ,   0.65,   0.7 ,   0.75,\n",
       "           0.8 ,   0.85,   0.9 ,   0.95,   1.  ,   1.05,   1.1 ,   1.15,\n",
       "           1.2 ,   1.25,   1.3 ,   1.35,   1.4 ,   1.45,   1.5 ,   1.55,\n",
       "           1.6 ,   1.65,   1.7 ,   1.75,   1.8 ,   1.85,   1.9 ,   1.95,\n",
       "           2.  ]),\n",
       "  'KE': array([1474.71, 1474.76, 1474.81, 1474.86, 1474.91, 1474.96, 1475.01,\n",
       "         1475.06, 1475.11, 1475.16, 1475.21, 1475.26, 1475.31, 1475.36,\n",
       "         1475.41, 1475.46, 1475.51, 1475.56, 1475.61, 1475.66, 1475.71,\n",
       "         1475.76, 1475.81, 1475.86, 1475.91, 1475.96, 1476.01, 1476.06,\n",
       "         1476.11, 1476.16, 1476.21, 1476.26, 1476.31, 1476.36, 1476.41,\n",
       "         1476.46, 1476.51, 1476.56, 1476.61, 1476.66, 1476.71, 1476.76,\n",
       "         1476.81, 1476.86, 1476.91, 1476.96, 1477.01, 1477.06, 1477.11,\n",
       "         1477.16, 1477.21, 1477.26, 1477.31, 1477.36, 1477.41, 1477.46,\n",
       "         1477.51, 1477.56, 1477.61, 1477.66, 1477.71, 1477.76, 1477.81,\n",
       "         1477.86, 1477.91, 1477.96, 1478.01, 1478.06, 1478.11, 1478.16,\n",
       "         1478.21, 1478.26, 1478.31, 1478.36, 1478.41, 1478.46, 1478.51,\n",
       "         1478.56, 1478.61, 1478.66, 1478.71, 1478.76, 1478.81, 1478.86,\n",
       "         1478.91, 1478.96, 1479.01, 1479.06, 1479.11, 1479.16, 1479.21,\n",
       "         1479.26, 1479.31, 1479.36, 1479.41, 1479.46, 1479.51, 1479.56,\n",
       "         1479.61, 1479.66, 1479.71, 1479.76, 1479.81, 1479.86, 1479.91,\n",
       "         1479.96, 1480.01, 1480.06, 1480.11, 1480.16, 1480.21, 1480.26,\n",
       "         1480.31, 1480.36, 1480.41, 1480.46, 1480.51, 1480.56, 1480.61,\n",
       "         1480.66, 1480.71, 1480.76, 1480.81, 1480.86, 1480.91, 1480.96,\n",
       "         1481.01, 1481.06, 1481.11, 1481.16, 1481.21, 1481.26, 1481.31,\n",
       "         1481.36, 1481.41, 1481.46, 1481.51, 1481.56, 1481.61, 1481.66,\n",
       "         1481.71, 1481.76, 1481.81, 1481.86, 1481.91, 1481.96, 1482.01,\n",
       "         1482.06, 1482.11, 1482.16, 1482.21, 1482.26, 1482.31, 1482.36,\n",
       "         1482.41, 1482.46, 1482.51, 1482.56, 1482.61, 1482.66, 1482.71,\n",
       "         1482.76, 1482.81, 1482.86, 1482.91, 1482.96, 1483.01, 1483.06,\n",
       "         1483.11, 1483.16, 1483.21, 1483.26, 1483.31, 1483.36, 1483.41,\n",
       "         1483.46, 1483.51, 1483.56, 1483.61, 1483.66, 1483.71, 1483.76,\n",
       "         1483.81, 1483.86, 1483.91, 1483.96, 1484.01, 1484.06, 1484.11,\n",
       "         1484.16, 1484.21, 1484.26, 1484.31, 1484.36, 1484.41, 1484.46,\n",
       "         1484.51, 1484.56, 1484.61, 1484.66, 1484.71, 1484.76, 1484.81,\n",
       "         1484.86, 1484.91, 1484.96, 1485.01, 1485.06, 1485.11, 1485.16,\n",
       "         1485.21, 1485.26, 1485.31, 1485.36, 1485.41, 1485.46, 1485.51,\n",
       "         1485.56, 1485.61, 1485.66, 1485.71, 1485.76, 1485.81, 1485.86,\n",
       "         1485.91, 1485.96, 1486.01, 1486.06, 1486.11, 1486.16, 1486.21,\n",
       "         1486.26, 1486.31, 1486.36, 1486.41, 1486.46, 1486.51, 1486.56,\n",
       "         1486.61, 1486.66, 1486.71, 1486.76, 1486.81, 1486.86, 1486.91,\n",
       "         1486.96, 1487.01, 1487.06, 1487.11, 1487.16, 1487.21, 1487.26,\n",
       "         1487.31, 1487.36, 1487.41, 1487.46, 1487.51, 1487.56, 1487.61,\n",
       "         1487.66, 1487.71, 1487.76, 1487.81, 1487.86, 1487.91, 1487.96,\n",
       "         1488.01, 1488.06, 1488.11, 1488.16, 1488.21, 1488.26, 1488.31,\n",
       "         1488.36, 1488.41, 1488.46, 1488.51, 1488.56, 1488.61, 1488.66,\n",
       "         1488.71]),\n",
       "  'intensity': array([1093.5099  , 1037.086   , 1158.0549  , 1131.273   , 1125.9862  ,\n",
       "         1171.4502  , 1163.9148  , 1172.5429  , 1193.0895  , 1280.1453  ,\n",
       "         1167.3595  , 1177.1425  , 1244.8171  , 1144.9267  , 1264.9508  ,\n",
       "         1212.5458  , 1197.112   , 1158.9343  , 1188.4304  , 1247.6738  ,\n",
       "         1239.6879  , 1285.1113  , 1264.2186  , 1335.6611  , 1358.3281  ,\n",
       "         1378.5412  , 1351.6875  , 1393.3792  , 1358.0211  , 1384.9552  ,\n",
       "         1453.902   , 1455.0572  , 1496.3543  , 1524.6969  , 1635.9664  ,\n",
       "         1676.6398  , 1652.7659  , 1674.7266  , 1725.2493  , 1763.5568  ,\n",
       "         1705.7977  , 1775.2258  , 1918.6127  , 1971.8381  , 2058.5637  ,\n",
       "         2288.2677  , 2357.1716  , 2469.8717  , 2607.5767  , 2803.9178  ,\n",
       "         2947.5199  , 3093.0479  , 3322.9485  , 3472.1313  , 3673.8647  ,\n",
       "         3916.0102  , 4266.4721  , 4513.3462  , 4712.1184  , 5022.288   ,\n",
       "         4987.2373  , 5102.9919  , 5184.7656  , 5532.9908  , 5735.0453  ,\n",
       "         5775.8773  , 5911.6068  , 6022.8926  , 6026.3656  , 5990.8852  ,\n",
       "         6199.4933  , 6275.9472  , 6472.9039  , 6581.6705  , 6641.6105  ,\n",
       "         6771.2287  , 6857.297   , 6937.5374  , 7256.3296  , 7226.306   ,\n",
       "         7425.3201  , 7476.1439  , 7710.84    , 7485.8879  , 7487.7149  ,\n",
       "         7362.6154  , 7187.7137  , 6840.5519  , 6441.7208  , 6193.8312  ,\n",
       "         6050.1687  , 5737.5642  , 5540.6683  , 5414.6989  , 5279.3911  ,\n",
       "         5090.5942  , 5011.5169  , 4968.0314  , 4860.8774  , 4911.5864  ,\n",
       "         4937.6598  , 4685.0958  , 4643.4209  , 4652.2319  , 4726.1617  ,\n",
       "         4757.8378  , 4860.3622  , 4866.8201  , 4985.0557  , 5005.649   ,\n",
       "         4976.6221  , 5043.1264  , 5223.262   , 5420.9116  , 5563.899   ,\n",
       "         5522.7592  , 5792.347   , 6048.0013  , 6127.8206  , 6445.3304  ,\n",
       "         6681.9989  , 6582.3836  , 6748.797   , 6896.1773  , 7140.5586  ,\n",
       "         7132.155   , 7331.5597  , 7184.5366  , 7061.2573  , 7072.9409  ,\n",
       "         7173.7239  , 7185.8633  , 7218.7131  , 6977.7251  , 7067.7248  ,\n",
       "         7205.5381  , 6868.6711  , 6743.0401  , 6849.1994  , 6954.4032  ,\n",
       "         6966.9536  , 7158.8525  , 6992.3631  , 6734.3372  , 6813.2287  ,\n",
       "         6910.3778  , 6964.0028  , 6966.2282  , 7101.4972  , 7388.9461  ,\n",
       "         7409.1858  , 7538.9948  , 7441.1234  , 7320.8526  , 7505.5178  ,\n",
       "         7547.9788  , 7497.4052  , 7171.7068  , 6702.4697  , 6078.3823  ,\n",
       "         5647.387   , 5175.678   , 4683.1257  , 4191.3399  , 3671.1636  ,\n",
       "         3288.6558  , 2872.5766  , 2616.2115  , 2346.6107  , 2152.2884  ,\n",
       "         1836.4059  , 1761.3722  , 1655.6103  , 1558.8166  , 1414.0646  ,\n",
       "         1342.6214  , 1341.6635  , 1228.8481  , 1179.529   , 1193.4025  ,\n",
       "         1244.2061  , 1182.8435  , 1102.8094  , 1035.5917  , 1007.3256  ,\n",
       "          999.60921 ,  982.85358 , 1063.4238  , 1075.7814  ,  965.35999 ,\n",
       "          954.48909 ,  882.17399 ,  837.92313 ,  836.36202 ,  905.25017 ,\n",
       "          935.5212  ,  910.99383 ,  821.81443 ,  758.77715 ,  795.7697  ,\n",
       "          784.94414 ,  735.16457 ,  673.76496 ,  610.64541 ,  547.81751 ,\n",
       "          510.8337  ,  439.34405 ,  388.4419  ,  328.07255 ,  222.56622 ,\n",
       "          167.51203 ,  110.38063 ,   85.726131,   63.778096,   57.149053,\n",
       "           46.366976,   43.391848,   31.993651,   40.643037,   40.383851,\n",
       "           41.380096,   35.779077,   48.638536,   31.73036 ,   28.61    ,\n",
       "           30.971392,   34.568368,   28.93    ,   19.05604 ,   25.360472,\n",
       "           23.634448,   37.45497 ,   37.25275 ,   41.4796  ,   29.44229 ,\n",
       "           20.555113,   22.51348 ,   23.13548 ,   19.765365,   19.527546,\n",
       "           26.94299 ,   31.010976,   33.489584,   27.775616,   15.75304 ,\n",
       "           22.434883,   26.801274,   24.345043,   28.581888,   30.891275,\n",
       "           19.542597,   13.18536 ,   22.46916 ,   21.335368,   17.792672,\n",
       "           14.723606,   23.465354,   21.088624,   24.588816,   20.770864,\n",
       "           14.51264 ,   30.958016,   20.09564 ,   15.65444 ,   18.30944 ,\n",
       "           19.664104,   13.166264,   21.759312,   19.954304,   13.135683,\n",
       "           13.913536,   16.820037,   10.99956 ,   14.2554  ,   14.52188 ,\n",
       "           12.539392,   14.986712,   18.081736,   12.51312 ,   10.106504,\n",
       "           13.802539])}}"
      ]
     },
     "execution_count": 13,
     "metadata": {},
     "output_type": "execute_result"
    }
   ],
   "source": [
    "VB_3"
   ]
  },
  {
   "cell_type": "code",
   "execution_count": 16,
   "metadata": {},
   "outputs": [
    {
     "name": "stdout",
     "output_type": "stream",
     "text": [
      "None\n"
     ]
    }
   ],
   "source": [
    "print(j)"
   ]
  },
  {
   "cell_type": "code",
   "execution_count": null,
   "metadata": {},
   "outputs": [],
   "source": []
  }
 ],
 "metadata": {
  "kernelspec": {
   "display_name": "Python 3",
   "language": "python",
   "name": "python3"
  },
  "language_info": {
   "codemirror_mode": {
    "name": "ipython",
    "version": 3
   },
   "file_extension": ".py",
   "mimetype": "text/x-python",
   "name": "python",
   "nbconvert_exporter": "python",
   "pygments_lexer": "ipython3",
   "version": "3.10.8"
  },
  "orig_nbformat": 4,
  "vscode": {
   "interpreter": {
    "hash": "e7370f93d1d0cde622a1f8e1c04877d8463912d04d973331ad4851f04de6915a"
   }
  }
 },
 "nbformat": 4,
 "nbformat_minor": 2
}
