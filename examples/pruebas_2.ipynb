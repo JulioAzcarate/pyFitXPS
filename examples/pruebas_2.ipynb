{
 "cells": [
  {
   "cell_type": "code",
   "execution_count": null,
   "metadata": {},
   "outputs": [],
   "source": [
    "# --- matplotlib --------------------------------------------------------------\n",
    "import matplotlib.pyplot as plt\n",
    "\n",
    "# --- numpy -------------------------------------------------------------------\n",
    "import numpy as np\n",
    "\n",
    "# --- LMFIT -------------------------------------------------------------------\n",
    "from lmfit import Parameters, minimize, report_fit\n",
    "from lmfit.models import ConstantModel, GaussianModel, LinearModel, VoigtModel\n",
    "from lmfit import CompositeModel, Model\n",
    "\n",
    "# --- Our own modules ---------------------------------------------------------\n",
    "import sys\n",
    "\n",
    "# permatent location of functions from pyFitXPS\n",
    "sys.path.insert(0, '/home/julio/Python/pyFitXPS/pyfitxps/') # Julio Laptop\n",
    "#sys.path.insert(0, '/Users/ceciliapatrault/Desktop/Julio/XPS_PYTHON/paquetes_funciones') # Mac\n",
    "import  as sp\n",
    "import fitxps"
   ]
  },
  {
   "cell_type": "code",
   "execution_count": null,
   "metadata": {},
   "outputs": [],
   "source": []
  }
 ],
 "metadata": {
  "language_info": {
   "name": "python"
  }
 },
 "nbformat": 4,
 "nbformat_minor": 2
}
